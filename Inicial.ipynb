{
 "cells": [
  {
   "cell_type": "markdown",
   "metadata": {
    "id": "PvV9_1vzJgkz"
   },
   "source": [
    "# Projeto Ciencia de Dados: Carteira de Ações com Inteligência Artificial\n",
    "\n",
    "- Projeto Inspiração: https://medium.com/swlh/teaching-a-machine-to-trade-stocks-like-warren-buffett-part-i-445849b208c6\n",
    "- Resumo Fundamentos Empresas BR: https://fundamentus.com.br/index.php"
   ]
  },
  {
   "cell_type": "markdown",
   "metadata": {
    "id": "2QfmQMbgJgk4"
   },
   "source": [
    "### Criar Dicionários de Dataframes com cada empresa"
   ]
  },
  {
   "cell_type": "code",
   "execution_count": 6,
   "metadata": {
    "colab": {
     "base_uri": "https://localhost:8080/",
     "height": 246
    },
    "executionInfo": {
     "elapsed": 300,
     "status": "error",
     "timestamp": 1621718982462,
     "user": {
      "displayName": "Andre Ricardo",
      "photoUrl": "https://lh3.googleusercontent.com/a-/AOh14Ghfd20Bv6RaW4nBg_3X3brh9xWuPYLxa4KwIj2IYA=s64",
      "userId": "07696743920107619577"
     },
     "user_tz": 180
    },
    "id": "WygjV_4QJgk7",
    "outputId": "91a8a8dd-5ad5-4cba-c69f-34471c72bb4f"
   },
   "outputs": [
    {
     "ename": "AttributeError",
     "evalue": "partially initialized module 'pandas' has no attribute 'core' (most likely due to a circular import)",
     "output_type": "error",
     "traceback": [
      "\u001b[1;31m---------------------------------------------------------------------------\u001b[0m",
      "\u001b[1;31mAttributeError\u001b[0m                            Traceback (most recent call last)",
      "\u001b[1;32m<ipython-input-6-0556b536201c>\u001b[0m in \u001b[0;36m<module>\u001b[1;34m\u001b[0m\n\u001b[1;32m----> 1\u001b[1;33m \u001b[1;32mimport\u001b[0m \u001b[0mpandas\u001b[0m \u001b[1;32mas\u001b[0m \u001b[0mpd\u001b[0m\u001b[1;33m\u001b[0m\u001b[1;33m\u001b[0m\u001b[0m\n\u001b[0m\u001b[0;32m      2\u001b[0m \u001b[1;32mimport\u001b[0m \u001b[0mos\u001b[0m\u001b[1;33m\u001b[0m\u001b[1;33m\u001b[0m\u001b[0m\n\u001b[0;32m      3\u001b[0m \u001b[1;33m\u001b[0m\u001b[0m\n\u001b[0;32m      4\u001b[0m \u001b[0mempresas\u001b[0m \u001b[1;33m=\u001b[0m \u001b[1;33m[\u001b[0m\u001b[1;34m\"ABEV3\"\u001b[0m\u001b[1;33m,\u001b[0m \u001b[1;34m\"AZUL4\"\u001b[0m\u001b[1;33m,\u001b[0m \u001b[1;34m\"BTOW3\"\u001b[0m\u001b[1;33m,\u001b[0m \u001b[1;34m\"B3SA3\"\u001b[0m\u001b[1;33m,\u001b[0m \u001b[1;34m\"BBSE3\"\u001b[0m\u001b[1;33m,\u001b[0m \u001b[1;34m\"BRML3\"\u001b[0m\u001b[1;33m,\u001b[0m \u001b[1;34m\"BBDC4\"\u001b[0m\u001b[1;33m,\u001b[0m \u001b[1;34m\"BRAP4\"\u001b[0m\u001b[1;33m,\u001b[0m \u001b[1;34m\"BBAS3\"\u001b[0m\u001b[1;33m,\u001b[0m \u001b[1;34m\"BRKM5\"\u001b[0m\u001b[1;33m,\u001b[0m \u001b[1;34m\"BRFS3\"\u001b[0m\u001b[1;33m,\u001b[0m \u001b[1;34m\"BPAC11\"\u001b[0m\u001b[1;33m,\u001b[0m \u001b[1;34m\"CRFB3\"\u001b[0m\u001b[1;33m,\u001b[0m \u001b[1;34m\"CCRO3\"\u001b[0m\u001b[1;33m,\u001b[0m \u001b[1;34m\"CMIG4\"\u001b[0m\u001b[1;33m,\u001b[0m \u001b[1;34m\"HGTX3\"\u001b[0m\u001b[1;33m,\u001b[0m \u001b[1;34m\"CIEL3\"\u001b[0m\u001b[1;33m,\u001b[0m \u001b[1;34m\"COGN3\"\u001b[0m\u001b[1;33m,\u001b[0m \u001b[1;34m\"CPLE6\"\u001b[0m\u001b[1;33m,\u001b[0m \u001b[1;34m\"CSAN3\"\u001b[0m\u001b[1;33m,\u001b[0m \u001b[1;34m\"CPFE3\"\u001b[0m\u001b[1;33m,\u001b[0m \u001b[1;34m\"CVCB3\"\u001b[0m\u001b[1;33m,\u001b[0m \u001b[1;34m\"CYRE3\"\u001b[0m\u001b[1;33m,\u001b[0m \u001b[1;34m\"ECOR3\"\u001b[0m\u001b[1;33m,\u001b[0m \u001b[1;34m\"ELET6\"\u001b[0m\u001b[1;33m,\u001b[0m \u001b[1;34m\"EMBR3\"\u001b[0m\u001b[1;33m,\u001b[0m \u001b[1;34m\"ENBR3\"\u001b[0m\u001b[1;33m,\u001b[0m \u001b[1;34m\"ENGI11\"\u001b[0m\u001b[1;33m,\u001b[0m \u001b[1;34m\"ENEV3\"\u001b[0m\u001b[1;33m,\u001b[0m \u001b[1;34m\"EGIE3\"\u001b[0m\u001b[1;33m,\u001b[0m \u001b[1;34m\"EQTL3\"\u001b[0m\u001b[1;33m,\u001b[0m \u001b[1;34m\"EZTC3\"\u001b[0m\u001b[1;33m,\u001b[0m \u001b[1;34m\"FLRY3\"\u001b[0m\u001b[1;33m,\u001b[0m \u001b[1;34m\"GGBR4\"\u001b[0m\u001b[1;33m,\u001b[0m \u001b[1;34m\"GOAU4\"\u001b[0m\u001b[1;33m,\u001b[0m \u001b[1;34m\"GOLL4\"\u001b[0m\u001b[1;33m,\u001b[0m \u001b[1;34m\"NTCO3\"\u001b[0m\u001b[1;33m,\u001b[0m \u001b[1;34m\"HAPV3\"\u001b[0m\u001b[1;33m,\u001b[0m \u001b[1;34m\"HYPE3\"\u001b[0m\u001b[1;33m,\u001b[0m \u001b[1;34m\"IGTA3\"\u001b[0m\u001b[1;33m,\u001b[0m \u001b[1;34m\"GNDI3\"\u001b[0m\u001b[1;33m,\u001b[0m \u001b[1;34m\"ITSA4\"\u001b[0m\u001b[1;33m,\u001b[0m \u001b[1;34m\"ITUB4\"\u001b[0m\u001b[1;33m,\u001b[0m \u001b[1;34m\"JBSS3\"\u001b[0m\u001b[1;33m,\u001b[0m \u001b[1;34m\"JHSF3\"\u001b[0m\u001b[1;33m,\u001b[0m \u001b[1;34m\"KLBN11\"\u001b[0m\u001b[1;33m,\u001b[0m \u001b[1;34m\"RENT3\"\u001b[0m\u001b[1;33m,\u001b[0m \u001b[1;34m\"LCAM3\"\u001b[0m\u001b[1;33m,\u001b[0m \u001b[1;34m\"LAME4\"\u001b[0m\u001b[1;33m,\u001b[0m \u001b[1;34m\"LREN3\"\u001b[0m\u001b[1;33m,\u001b[0m \u001b[1;34m\"MGLU3\"\u001b[0m\u001b[1;33m,\u001b[0m \u001b[1;34m\"MRFG3\"\u001b[0m\u001b[1;33m,\u001b[0m \u001b[1;34m\"BEEF3\"\u001b[0m\u001b[1;33m,\u001b[0m \u001b[1;34m\"MRVE3\"\u001b[0m\u001b[1;33m,\u001b[0m \u001b[1;34m\"MULT3\"\u001b[0m\u001b[1;33m,\u001b[0m \u001b[1;34m\"PCAR3\"\u001b[0m\u001b[1;33m,\u001b[0m \u001b[1;34m\"PETR4\"\u001b[0m\u001b[1;33m,\u001b[0m \u001b[1;34m\"BRDT3\"\u001b[0m\u001b[1;33m,\u001b[0m \u001b[1;34m\"PRIO3\"\u001b[0m\u001b[1;33m,\u001b[0m \u001b[1;34m\"QUAL3\"\u001b[0m\u001b[1;33m,\u001b[0m \u001b[1;34m\"RADL3\"\u001b[0m\u001b[1;33m,\u001b[0m \u001b[1;34m\"RAIL3\"\u001b[0m\u001b[1;33m,\u001b[0m \u001b[1;34m\"SBSP3\"\u001b[0m\u001b[1;33m,\u001b[0m \u001b[1;34m\"SANB11\"\u001b[0m\u001b[1;33m,\u001b[0m \u001b[1;34m\"CSNA3\"\u001b[0m\u001b[1;33m,\u001b[0m \u001b[1;34m\"SULA11\"\u001b[0m\u001b[1;33m,\u001b[0m \u001b[1;34m\"SUZB3\"\u001b[0m\u001b[1;33m,\u001b[0m \u001b[1;34m\"TAEE11\"\u001b[0m\u001b[1;33m,\u001b[0m \u001b[1;34m\"VIVT3\"\u001b[0m\u001b[1;33m,\u001b[0m \u001b[1;34m\"TIMS3\"\u001b[0m\u001b[1;33m,\u001b[0m \u001b[1;34m\"TOTS3\"\u001b[0m\u001b[1;33m,\u001b[0m \u001b[1;34m\"UGPA3\"\u001b[0m\u001b[1;33m,\u001b[0m \u001b[1;34m\"USIM5\"\u001b[0m\u001b[1;33m,\u001b[0m \u001b[1;34m\"VALE3\"\u001b[0m\u001b[1;33m,\u001b[0m \u001b[1;34m\"VVAR3\"\u001b[0m\u001b[1;33m,\u001b[0m \u001b[1;34m\"WEGE3\"\u001b[0m\u001b[1;33m,\u001b[0m \u001b[1;34m\"YDUQ3\"\u001b[0m\u001b[1;33m]\u001b[0m\u001b[1;33m\u001b[0m\u001b[1;33m\u001b[0m\u001b[0m\n\u001b[0;32m      5\u001b[0m \u001b[1;31m# fundamentos = {\u001b[0m\u001b[1;33m\u001b[0m\u001b[1;33m\u001b[0m\u001b[1;33m\u001b[0m\u001b[0m\n",
      "\u001b[1;32m~\\anaconda3\\lib\\site-packages\\pandas\\__init__.py\u001b[0m in \u001b[0;36m<module>\u001b[1;34m\u001b[0m\n\u001b[0;32m    177\u001b[0m \u001b[1;33m\u001b[0m\u001b[0m\n\u001b[0;32m    178\u001b[0m \u001b[1;32mfrom\u001b[0m \u001b[0mpandas\u001b[0m\u001b[1;33m.\u001b[0m\u001b[0mutil\u001b[0m\u001b[1;33m.\u001b[0m\u001b[0m_tester\u001b[0m \u001b[1;32mimport\u001b[0m \u001b[0mtest\u001b[0m\u001b[1;33m\u001b[0m\u001b[1;33m\u001b[0m\u001b[0m\n\u001b[1;32m--> 179\u001b[1;33m \u001b[1;32mimport\u001b[0m \u001b[0mpandas\u001b[0m\u001b[1;33m.\u001b[0m\u001b[0mtesting\u001b[0m\u001b[1;33m\u001b[0m\u001b[1;33m\u001b[0m\u001b[0m\n\u001b[0m\u001b[0;32m    180\u001b[0m \u001b[1;32mimport\u001b[0m \u001b[0mpandas\u001b[0m\u001b[1;33m.\u001b[0m\u001b[0marrays\u001b[0m\u001b[1;33m\u001b[0m\u001b[1;33m\u001b[0m\u001b[0m\n\u001b[0;32m    181\u001b[0m \u001b[1;33m\u001b[0m\u001b[0m\n",
      "\u001b[1;32m~\\anaconda3\\lib\\site-packages\\pandas\\testing.py\u001b[0m in \u001b[0;36m<module>\u001b[1;34m\u001b[0m\n\u001b[0;32m      3\u001b[0m \"\"\"\n\u001b[0;32m      4\u001b[0m \u001b[1;33m\u001b[0m\u001b[0m\n\u001b[1;32m----> 5\u001b[1;33m from pandas._testing import (\n\u001b[0m\u001b[0;32m      6\u001b[0m     \u001b[0massert_extension_array_equal\u001b[0m\u001b[1;33m,\u001b[0m\u001b[1;33m\u001b[0m\u001b[1;33m\u001b[0m\u001b[0m\n\u001b[0;32m      7\u001b[0m     \u001b[0massert_frame_equal\u001b[0m\u001b[1;33m,\u001b[0m\u001b[1;33m\u001b[0m\u001b[1;33m\u001b[0m\u001b[0m\n",
      "\u001b[1;32m~\\anaconda3\\lib\\site-packages\\pandas\\_testing.py\u001b[0m in \u001b[0;36m<module>\u001b[1;34m\u001b[0m\n\u001b[0;32m   3052\u001b[0m \u001b[1;33m\u001b[0m\u001b[0m\n\u001b[0;32m   3053\u001b[0m \u001b[1;33m\u001b[0m\u001b[0m\n\u001b[1;32m-> 3054\u001b[1;33m \u001b[0mcython_table\u001b[0m \u001b[1;33m=\u001b[0m \u001b[0mpd\u001b[0m\u001b[1;33m.\u001b[0m\u001b[0mcore\u001b[0m\u001b[1;33m.\u001b[0m\u001b[0mbase\u001b[0m\u001b[1;33m.\u001b[0m\u001b[0mSelectionMixin\u001b[0m\u001b[1;33m.\u001b[0m\u001b[0m_cython_table\u001b[0m\u001b[1;33m.\u001b[0m\u001b[0mitems\u001b[0m\u001b[1;33m(\u001b[0m\u001b[1;33m)\u001b[0m\u001b[1;33m\u001b[0m\u001b[1;33m\u001b[0m\u001b[0m\n\u001b[0m\u001b[0;32m   3055\u001b[0m \u001b[1;33m\u001b[0m\u001b[0m\n\u001b[0;32m   3056\u001b[0m \u001b[1;33m\u001b[0m\u001b[0m\n",
      "\u001b[1;31mAttributeError\u001b[0m: partially initialized module 'pandas' has no attribute 'core' (most likely due to a circular import)"
     ]
    }
   ],
   "source": [
    "import pandas as pd\n",
    "import os\n",
    "\n",
    "empresas = [\"ABEV3\", \"AZUL4\", \"BTOW3\", \"B3SA3\", \"BBSE3\", \"BRML3\", \"BBDC4\", \"BRAP4\", \"BBAS3\", \"BRKM5\", \"BRFS3\", \"BPAC11\", \"CRFB3\", \"CCRO3\", \"CMIG4\", \"HGTX3\", \"CIEL3\", \"COGN3\", \"CPLE6\", \"CSAN3\", \"CPFE3\", \"CVCB3\", \"CYRE3\", \"ECOR3\", \"ELET6\", \"EMBR3\", \"ENBR3\", \"ENGI11\", \"ENEV3\", \"EGIE3\", \"EQTL3\", \"EZTC3\", \"FLRY3\", \"GGBR4\", \"GOAU4\", \"GOLL4\", \"NTCO3\", \"HAPV3\", \"HYPE3\", \"IGTA3\", \"GNDI3\", \"ITSA4\", \"ITUB4\", \"JBSS3\", \"JHSF3\", \"KLBN11\", \"RENT3\", \"LCAM3\", \"LAME4\", \"LREN3\", \"MGLU3\", \"MRFG3\", \"BEEF3\", \"MRVE3\", \"MULT3\", \"PCAR3\", \"PETR4\", \"BRDT3\", \"PRIO3\", \"QUAL3\", \"RADL3\", \"RAIL3\", \"SBSP3\", \"SANB11\", \"CSNA3\", \"SULA11\", \"SUZB3\", \"TAEE11\", \"VIVT3\", \"TIMS3\", \"TOTS3\", \"UGPA3\", \"USIM5\", \"VALE3\", \"VVAR3\", \"WEGE3\", \"YDUQ3\"]\n",
    "# fundamentos = {\n",
    "#    \"ABEV3\": balanco_dre_abev3,\n",
    "#    \"MGLU3\": balanco_dre_mglu3\n",
    "# }\n",
    "fundamentos = {}\n",
    "arquivos = os.listdir('balancos')\n",
    "for arquivo in arquivos:\n",
    "    nome = arquivo\n",
    "    print(nome)"
   ]
  },
  {
   "cell_type": "markdown",
   "metadata": {
    "id": "0_vdSBMfJgk8"
   },
   "source": [
    "### Pegar Preços das Ações nas Datas Correspondentes"
   ]
  },
  {
   "cell_type": "code",
   "execution_count": null,
   "metadata": {
    "id": "dO4_yDGIJgk-"
   },
   "outputs": [],
   "source": []
  },
  {
   "cell_type": "markdown",
   "metadata": {
    "id": "-UBIAZ5oJgk-"
   },
   "source": [
    "### Remover empresas que tem cotações vazias da análise (mesmo após o tratamento que fizemos na hora de pegar as cotações)"
   ]
  },
  {
   "cell_type": "code",
   "execution_count": null,
   "metadata": {
    "id": "I-ug_0EaJgk_"
   },
   "outputs": [],
   "source": []
  },
  {
   "cell_type": "markdown",
   "metadata": {
    "id": "0V1uGeKcJglA"
   },
   "source": [
    "### Juntar fundamentos com Preço da Ação"
   ]
  },
  {
   "cell_type": "code",
   "execution_count": null,
   "metadata": {
    "id": "n6CHc536JglB"
   },
   "outputs": [],
   "source": []
  },
  {
   "cell_type": "markdown",
   "metadata": {
    "id": "hoqK3Jg1JglC"
   },
   "source": [
    "### Tratar colunas\n",
    "    \n",
    "1. Vamos pegar apenas empresas que possuem as mesmas colunas\n",
    "2. Ajeitar colunas com nome repetido\n",
    "3. Analisar valores vazios nas colunas"
   ]
  },
  {
   "cell_type": "markdown",
   "metadata": {
    "id": "ISDwfyKKJglE"
   },
   "source": [
    "#### 1. Remover da análise colunas que não existem em alguma tabela"
   ]
  },
  {
   "cell_type": "code",
   "execution_count": null,
   "metadata": {
    "id": "pOSXVZr4JglH"
   },
   "outputs": [],
   "source": []
  },
  {
   "cell_type": "markdown",
   "metadata": {
    "id": "yfT8CqHsJglI"
   },
   "source": [
    "####  2. Ajeitando colunas com o mesmo nome"
   ]
  },
  {
   "cell_type": "code",
   "execution_count": null,
   "metadata": {
    "id": "y7dqHZsEJglJ"
   },
   "outputs": [],
   "source": []
  },
  {
   "cell_type": "markdown",
   "metadata": {
    "id": "GJ4-CjU7JglK"
   },
   "source": [
    "#### 3. Analisar valores vazios nas colunas"
   ]
  },
  {
   "cell_type": "code",
   "execution_count": null,
   "metadata": {
    "id": "yjhk8iAkJglL"
   },
   "outputs": [],
   "source": []
  },
  {
   "cell_type": "markdown",
   "metadata": {
    "id": "BnXWPXxdJglL"
   },
   "source": [
    "### Criando os rótulos: Comprar, Não Comprar ou Vender?\n",
    "\n",
    "Não queremos saber quando vender, mas inclui essa categoria para conseguir identificar quando que o nosso modelo vai sugerir uma compra quando na verdade o melhor momento era vender. Isso significa que o modelo errou \"mais\" do que quando sugeriu comprar e simplesmente o certo era não comprar\n",
    "\n",
    "Regra: \n",
    "1. Subiu mais do que o Ibovespa (ou caiu menos) -> Comprar (Valor = 2)\n",
    "2. Subiu menos do que o Ibovespa até Ibovespa - 2% (ou caiu mais do que Ibovespa até Ibovespa -2%) -> Não Comprar (Valor = 1)\n",
    "3. Subiu menos do que o Ibovespa - 2% (ou caiu mais do que Ibovespa -2%) -> Vender (Valor = 0)"
   ]
  },
  {
   "cell_type": "code",
   "execution_count": null,
   "metadata": {
    "id": "d_LZZdlTJglM"
   },
   "outputs": [],
   "source": []
  },
  {
   "cell_type": "markdown",
   "metadata": {
    "id": "AE2XE9zvJglM"
   },
   "source": [
    "### Hora de tornar tudo 1 dataframe só"
   ]
  },
  {
   "cell_type": "code",
   "execution_count": null,
   "metadata": {
    "id": "IGqEq1tTJglO"
   },
   "outputs": [],
   "source": []
  },
  {
   "cell_type": "markdown",
   "metadata": {
    "id": "Ou-KpCZaJglO"
   },
   "source": [
    "### Análise Exploratória"
   ]
  },
  {
   "cell_type": "markdown",
   "metadata": {
    "id": "06McUIZLJglP"
   },
   "source": [
    "#### 1. Quantidade de Respostas em cada Tipo de Decisão"
   ]
  },
  {
   "cell_type": "code",
   "execution_count": null,
   "metadata": {
    "id": "YX9vAyH0JglP"
   },
   "outputs": [],
   "source": []
  },
  {
   "cell_type": "markdown",
   "metadata": {
    "id": "eEX1bfmaJglQ"
   },
   "source": [
    "#### 2. Correlação"
   ]
  },
  {
   "cell_type": "code",
   "execution_count": null,
   "metadata": {
    "id": "W6jInsdMJglQ"
   },
   "outputs": [],
   "source": []
  },
  {
   "cell_type": "markdown",
   "metadata": {
    "id": "27NgSJ8bJglQ"
   },
   "source": [
    "#### Vamos remover Todas as Colunas \"já explicadas\" pelo Ativo Total"
   ]
  },
  {
   "cell_type": "code",
   "execution_count": null,
   "metadata": {
    "id": "O6-vBGN2JglR"
   },
   "outputs": [],
   "source": []
  },
  {
   "cell_type": "markdown",
   "metadata": {
    "id": "btT4MignJglR"
   },
   "source": [
    "### Vamos partir para Feature Selection\n",
    "\n",
    "Será que todas essas features são importantes mesmo para o nosso modelo? Muitas features nem sempre é bom, se pudermos reduzir sem perder eficiência do nosso modelo, melhor\n",
    "\n",
    "Aqui temos 2 alternativas:\n",
    "\n",
    "1. Seguir com todas as features e depois tentar melhorar o nosso modelo\n",
    "2. Usar algum critério para selecionar as melhores features para prever e criar o modelo a partir apenas dessa seleção menor de features\n",
    "\n",
    "Vou seguir com a opção 2, porque é mais rápida e, caso dê certo, facilita a nossa vida. Se der errado, a gente volta aqui e refaz o processo"
   ]
  },
  {
   "cell_type": "code",
   "execution_count": null,
   "metadata": {
    "id": "9Qsd5f3QJglR"
   },
   "outputs": [],
   "source": []
  },
  {
   "cell_type": "markdown",
   "metadata": {
    "id": "j8bORactJglS"
   },
   "source": [
    "### Aplicação do StandardScaler para melhorar nossos modelos de MachineLearning"
   ]
  },
  {
   "cell_type": "code",
   "execution_count": null,
   "metadata": {
    "id": "PwEVTlTGJglS"
   },
   "outputs": [],
   "source": []
  },
  {
   "cell_type": "markdown",
   "metadata": {
    "id": "vSnQWGqOJglT"
   },
   "source": [
    "### Separação dos dados em treino e teste"
   ]
  },
  {
   "cell_type": "code",
   "execution_count": null,
   "metadata": {
    "id": "eVjxBdtYJglU"
   },
   "outputs": [],
   "source": []
  },
  {
   "cell_type": "markdown",
   "metadata": {
    "id": "Qc90mIoBJglU"
   },
   "source": [
    "### Criação de um Dummy Classifier (Uma baseline para ver se os nossos modelos são melhores do que puro chute)"
   ]
  },
  {
   "cell_type": "code",
   "execution_count": null,
   "metadata": {
    "id": "hRwU6jsoJglU"
   },
   "outputs": [],
   "source": []
  },
  {
   "cell_type": "markdown",
   "metadata": {
    "id": "fjCNhmCFJglU"
   },
   "source": [
    "### Métricas de Avaliação\n",
    "\n",
    "- Precisão vai ser nossa métrica principal\n",
    "- Recall pode ser útil, mas precisão no caso de ações é mt mais importante.\n",
    "\n",
    "Explicação: Foto dos Gatos e Cachorros na Wikipedia: https://en.wikipedia.org/wiki/Precision_and_recall"
   ]
  },
  {
   "cell_type": "code",
   "execution_count": null,
   "metadata": {
    "id": "hYSdyjfKJglU"
   },
   "outputs": [],
   "source": []
  },
  {
   "cell_type": "markdown",
   "metadata": {
    "id": "_kU6J3X-JglV"
   },
   "source": [
    "### Modelos que vamos testar\n",
    "- AdaBoost\n",
    "- Decision Tree\n",
    "- Random Forest\n",
    "- ExtraTree\n",
    "- Gradient Boost\n",
    "- K Nearest Neighbors (KNN)\n",
    "- Logistic Regression\n",
    "- Naive Bayes\n",
    "- Support Vector Machine (SVM)\n",
    "- Rede Neural"
   ]
  },
  {
   "cell_type": "code",
   "execution_count": null,
   "metadata": {
    "id": "BHsp_kXlJglX"
   },
   "outputs": [],
   "source": []
  },
  {
   "cell_type": "markdown",
   "metadata": {
    "id": "COG4K5rVJglY"
   },
   "source": [
    "### Agora vamos ao tunning do modelo\n",
    "\n",
    "- é bom sempre incluir no tuning os parâmetros \"padrões\" do modelo, se não poder ser que vc só encontre resultados piores"
   ]
  },
  {
   "cell_type": "code",
   "execution_count": null,
   "metadata": {
    "id": "4eOLe0owJglZ"
   },
   "outputs": [],
   "source": []
  },
  {
   "cell_type": "markdown",
   "metadata": {
    "id": "L6yUAGFmJglZ"
   },
   "source": [
    "### Vamos seguir então com o Modelo BLA tunado para ser o nosso modelo\n",
    "\n",
    "- Agora ao que interessa...será que vamos conseguir escolher boas ações e ter uma carteira rentável?\n",
    "- Para isso, temos que pegar o último Trimestre (que não usamos para treinar o modelo nem testar) e ver como ele teria saído até o momento em que gravo esse vídeo..."
   ]
  },
  {
   "cell_type": "markdown",
   "metadata": {
    "id": "58HFZNULJglZ"
   },
   "source": [
    "### Repetindo os passos com a base fundamentos só que pegando apenas o último tri de cada empresa"
   ]
  },
  {
   "cell_type": "code",
   "execution_count": null,
   "metadata": {
    "id": "yFWEPKnKJgla"
   },
   "outputs": [],
   "source": []
  },
  {
   "cell_type": "markdown",
   "metadata": {
    "id": "uGY-HIukJgla"
   },
   "source": [
    "### Agora fazemos a previsão de decisões"
   ]
  },
  {
   "cell_type": "code",
   "execution_count": null,
   "metadata": {
    "id": "N9htrI-MJglc"
   },
   "outputs": [],
   "source": []
  }
 ],
 "metadata": {
  "colab": {
   "name": "Arquivo Inicial.ipynb",
   "provenance": []
  },
  "kernelspec": {
   "display_name": "Python 3",
   "language": "python",
   "name": "python3"
  }
 },
 "nbformat": 4,
 "nbformat_minor": 1
}
